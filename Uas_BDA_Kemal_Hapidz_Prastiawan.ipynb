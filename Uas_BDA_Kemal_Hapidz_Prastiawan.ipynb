{
  "nbformat": 4,
  "nbformat_minor": 0,
  "metadata": {
    "colab": {
      "provenance": [],
      "authorship_tag": "ABX9TyNkqh/xSZmPt5WIFpXZGulH",
      "include_colab_link": true
    },
    "kernelspec": {
      "name": "python3",
      "display_name": "Python 3"
    },
    "language_info": {
      "name": "python"
    }
  },
  "cells": [
    {
      "cell_type": "markdown",
      "metadata": {
        "id": "view-in-github",
        "colab_type": "text"
      },
      "source": [
        "<a href=\"https://colab.research.google.com/github/220660121115/UAS_BDA_220660121115_Kemal_Hapidz_Prastiawan_IF-IVA/blob/main/Uas_BDA_Kemal_Hapidz_Prastiawan.ipynb\" target=\"_parent\"><img src=\"https://colab.research.google.com/assets/colab-badge.svg\" alt=\"Open In Colab\"/></a>"
      ]
    },
    {
      "cell_type": "code",
      "execution_count": 1,
      "metadata": {
        "id": "IeNekQ-QHRPX"
      },
      "outputs": [],
      "source": [
        "import pandas as pd\n",
        "from sklearn.preprocessing import StandardScaler\n",
        "from sklearn.cluster import KMeans\n",
        "import matplotlib.pyplot as plt\n",
        "import seaborn as sns\n"
      ]
    },
    {
      "cell_type": "code",
      "source": [
        "from google.colab import files\n",
        "uploaded = files.upload()"
      ],
      "metadata": {
        "colab": {
          "base_uri": "https://localhost:8080/",
          "height": 71
        },
        "id": "nnMhEekwIy8M",
        "outputId": "fbbcf71a-5bea-4e1f-a334-47a4ab965f65"
      },
      "execution_count": 4,
      "outputs": [
        {
          "output_type": "display_data",
          "data": {
            "text/plain": [
              "<IPython.core.display.HTML object>"
            ],
            "text/html": [
              "\n",
              "     <input type=\"file\" id=\"files-92a47314-c9c3-4822-87f3-2108c52dfbaf\" name=\"files[]\" multiple disabled\n",
              "        style=\"border:none\" />\n",
              "     <output id=\"result-92a47314-c9c3-4822-87f3-2108c52dfbaf\">\n",
              "      Upload widget is only available when the cell has been executed in the\n",
              "      current browser session. Please rerun this cell to enable.\n",
              "      </output>\n",
              "      <script>// Copyright 2017 Google LLC\n",
              "//\n",
              "// Licensed under the Apache License, Version 2.0 (the \"License\");\n",
              "// you may not use this file except in compliance with the License.\n",
              "// You may obtain a copy of the License at\n",
              "//\n",
              "//      http://www.apache.org/licenses/LICENSE-2.0\n",
              "//\n",
              "// Unless required by applicable law or agreed to in writing, software\n",
              "// distributed under the License is distributed on an \"AS IS\" BASIS,\n",
              "// WITHOUT WARRANTIES OR CONDITIONS OF ANY KIND, either express or implied.\n",
              "// See the License for the specific language governing permissions and\n",
              "// limitations under the License.\n",
              "\n",
              "/**\n",
              " * @fileoverview Helpers for google.colab Python module.\n",
              " */\n",
              "(function(scope) {\n",
              "function span(text, styleAttributes = {}) {\n",
              "  const element = document.createElement('span');\n",
              "  element.textContent = text;\n",
              "  for (const key of Object.keys(styleAttributes)) {\n",
              "    element.style[key] = styleAttributes[key];\n",
              "  }\n",
              "  return element;\n",
              "}\n",
              "\n",
              "// Max number of bytes which will be uploaded at a time.\n",
              "const MAX_PAYLOAD_SIZE = 100 * 1024;\n",
              "\n",
              "function _uploadFiles(inputId, outputId) {\n",
              "  const steps = uploadFilesStep(inputId, outputId);\n",
              "  const outputElement = document.getElementById(outputId);\n",
              "  // Cache steps on the outputElement to make it available for the next call\n",
              "  // to uploadFilesContinue from Python.\n",
              "  outputElement.steps = steps;\n",
              "\n",
              "  return _uploadFilesContinue(outputId);\n",
              "}\n",
              "\n",
              "// This is roughly an async generator (not supported in the browser yet),\n",
              "// where there are multiple asynchronous steps and the Python side is going\n",
              "// to poll for completion of each step.\n",
              "// This uses a Promise to block the python side on completion of each step,\n",
              "// then passes the result of the previous step as the input to the next step.\n",
              "function _uploadFilesContinue(outputId) {\n",
              "  const outputElement = document.getElementById(outputId);\n",
              "  const steps = outputElement.steps;\n",
              "\n",
              "  const next = steps.next(outputElement.lastPromiseValue);\n",
              "  return Promise.resolve(next.value.promise).then((value) => {\n",
              "    // Cache the last promise value to make it available to the next\n",
              "    // step of the generator.\n",
              "    outputElement.lastPromiseValue = value;\n",
              "    return next.value.response;\n",
              "  });\n",
              "}\n",
              "\n",
              "/**\n",
              " * Generator function which is called between each async step of the upload\n",
              " * process.\n",
              " * @param {string} inputId Element ID of the input file picker element.\n",
              " * @param {string} outputId Element ID of the output display.\n",
              " * @return {!Iterable<!Object>} Iterable of next steps.\n",
              " */\n",
              "function* uploadFilesStep(inputId, outputId) {\n",
              "  const inputElement = document.getElementById(inputId);\n",
              "  inputElement.disabled = false;\n",
              "\n",
              "  const outputElement = document.getElementById(outputId);\n",
              "  outputElement.innerHTML = '';\n",
              "\n",
              "  const pickedPromise = new Promise((resolve) => {\n",
              "    inputElement.addEventListener('change', (e) => {\n",
              "      resolve(e.target.files);\n",
              "    });\n",
              "  });\n",
              "\n",
              "  const cancel = document.createElement('button');\n",
              "  inputElement.parentElement.appendChild(cancel);\n",
              "  cancel.textContent = 'Cancel upload';\n",
              "  const cancelPromise = new Promise((resolve) => {\n",
              "    cancel.onclick = () => {\n",
              "      resolve(null);\n",
              "    };\n",
              "  });\n",
              "\n",
              "  // Wait for the user to pick the files.\n",
              "  const files = yield {\n",
              "    promise: Promise.race([pickedPromise, cancelPromise]),\n",
              "    response: {\n",
              "      action: 'starting',\n",
              "    }\n",
              "  };\n",
              "\n",
              "  cancel.remove();\n",
              "\n",
              "  // Disable the input element since further picks are not allowed.\n",
              "  inputElement.disabled = true;\n",
              "\n",
              "  if (!files) {\n",
              "    return {\n",
              "      response: {\n",
              "        action: 'complete',\n",
              "      }\n",
              "    };\n",
              "  }\n",
              "\n",
              "  for (const file of files) {\n",
              "    const li = document.createElement('li');\n",
              "    li.append(span(file.name, {fontWeight: 'bold'}));\n",
              "    li.append(span(\n",
              "        `(${file.type || 'n/a'}) - ${file.size} bytes, ` +\n",
              "        `last modified: ${\n",
              "            file.lastModifiedDate ? file.lastModifiedDate.toLocaleDateString() :\n",
              "                                    'n/a'} - `));\n",
              "    const percent = span('0% done');\n",
              "    li.appendChild(percent);\n",
              "\n",
              "    outputElement.appendChild(li);\n",
              "\n",
              "    const fileDataPromise = new Promise((resolve) => {\n",
              "      const reader = new FileReader();\n",
              "      reader.onload = (e) => {\n",
              "        resolve(e.target.result);\n",
              "      };\n",
              "      reader.readAsArrayBuffer(file);\n",
              "    });\n",
              "    // Wait for the data to be ready.\n",
              "    let fileData = yield {\n",
              "      promise: fileDataPromise,\n",
              "      response: {\n",
              "        action: 'continue',\n",
              "      }\n",
              "    };\n",
              "\n",
              "    // Use a chunked sending to avoid message size limits. See b/62115660.\n",
              "    let position = 0;\n",
              "    do {\n",
              "      const length = Math.min(fileData.byteLength - position, MAX_PAYLOAD_SIZE);\n",
              "      const chunk = new Uint8Array(fileData, position, length);\n",
              "      position += length;\n",
              "\n",
              "      const base64 = btoa(String.fromCharCode.apply(null, chunk));\n",
              "      yield {\n",
              "        response: {\n",
              "          action: 'append',\n",
              "          file: file.name,\n",
              "          data: base64,\n",
              "        },\n",
              "      };\n",
              "\n",
              "      let percentDone = fileData.byteLength === 0 ?\n",
              "          100 :\n",
              "          Math.round((position / fileData.byteLength) * 100);\n",
              "      percent.textContent = `${percentDone}% done`;\n",
              "\n",
              "    } while (position < fileData.byteLength);\n",
              "  }\n",
              "\n",
              "  // All done.\n",
              "  yield {\n",
              "    response: {\n",
              "      action: 'complete',\n",
              "    }\n",
              "  };\n",
              "}\n",
              "\n",
              "scope.google = scope.google || {};\n",
              "scope.google.colab = scope.google.colab || {};\n",
              "scope.google.colab._files = {\n",
              "  _uploadFiles,\n",
              "  _uploadFilesContinue,\n",
              "};\n",
              "})(self);\n",
              "</script> "
            ]
          },
          "metadata": {}
        },
        {
          "output_type": "stream",
          "name": "stdout",
          "text": [
            "Saving NetflixOriginals.csv to NetflixOriginals (1).csv\n"
          ]
        }
      ]
    },
    {
      "cell_type": "code",
      "source": [
        "import pandas as pd\n",
        "\n",
        "# Try reading the file with 'latin-1' encoding\n",
        "data = pd.read_csv('NetflixOriginals.csv', encoding='latin-1')\n",
        "# If this doesn't work, try other encodings like 'ISO-8859-1'\n",
        "data.head()"
      ],
      "metadata": {
        "colab": {
          "base_uri": "https://localhost:8080/",
          "height": 206
        },
        "id": "MdE2Xo0pJEBf",
        "outputId": "78793496-62c7-4a2b-c38b-e89b8c96a47d"
      },
      "execution_count": 6,
      "outputs": [
        {
          "output_type": "execute_result",
          "data": {
            "text/plain": [
              "             Title                  Genre           Premiere  Runtime  \\\n",
              "0  Enter the Anime            Documentary     August 5, 2019       58   \n",
              "1      Dark Forces               Thriller    August 21, 2020       81   \n",
              "2          The App  Science fiction/Drama  December 26, 2019       79   \n",
              "3   The Open House        Horror thriller   January 19, 2018       94   \n",
              "4      Kaali Khuhi                Mystery   October 30, 2020       90   \n",
              "\n",
              "   IMDB Score          Language  \n",
              "0         2.5  English/Japanese  \n",
              "1         2.6           Spanish  \n",
              "2         2.6           Italian  \n",
              "3         3.2           English  \n",
              "4         3.4             Hindi  "
            ],
            "text/html": [
              "\n",
              "  <div id=\"df-0490810b-b65a-4e34-9f76-35618094fa1f\" class=\"colab-df-container\">\n",
              "    <div>\n",
              "<style scoped>\n",
              "    .dataframe tbody tr th:only-of-type {\n",
              "        vertical-align: middle;\n",
              "    }\n",
              "\n",
              "    .dataframe tbody tr th {\n",
              "        vertical-align: top;\n",
              "    }\n",
              "\n",
              "    .dataframe thead th {\n",
              "        text-align: right;\n",
              "    }\n",
              "</style>\n",
              "<table border=\"1\" class=\"dataframe\">\n",
              "  <thead>\n",
              "    <tr style=\"text-align: right;\">\n",
              "      <th></th>\n",
              "      <th>Title</th>\n",
              "      <th>Genre</th>\n",
              "      <th>Premiere</th>\n",
              "      <th>Runtime</th>\n",
              "      <th>IMDB Score</th>\n",
              "      <th>Language</th>\n",
              "    </tr>\n",
              "  </thead>\n",
              "  <tbody>\n",
              "    <tr>\n",
              "      <th>0</th>\n",
              "      <td>Enter the Anime</td>\n",
              "      <td>Documentary</td>\n",
              "      <td>August 5, 2019</td>\n",
              "      <td>58</td>\n",
              "      <td>2.5</td>\n",
              "      <td>English/Japanese</td>\n",
              "    </tr>\n",
              "    <tr>\n",
              "      <th>1</th>\n",
              "      <td>Dark Forces</td>\n",
              "      <td>Thriller</td>\n",
              "      <td>August 21, 2020</td>\n",
              "      <td>81</td>\n",
              "      <td>2.6</td>\n",
              "      <td>Spanish</td>\n",
              "    </tr>\n",
              "    <tr>\n",
              "      <th>2</th>\n",
              "      <td>The App</td>\n",
              "      <td>Science fiction/Drama</td>\n",
              "      <td>December 26, 2019</td>\n",
              "      <td>79</td>\n",
              "      <td>2.6</td>\n",
              "      <td>Italian</td>\n",
              "    </tr>\n",
              "    <tr>\n",
              "      <th>3</th>\n",
              "      <td>The Open House</td>\n",
              "      <td>Horror thriller</td>\n",
              "      <td>January 19, 2018</td>\n",
              "      <td>94</td>\n",
              "      <td>3.2</td>\n",
              "      <td>English</td>\n",
              "    </tr>\n",
              "    <tr>\n",
              "      <th>4</th>\n",
              "      <td>Kaali Khuhi</td>\n",
              "      <td>Mystery</td>\n",
              "      <td>October 30, 2020</td>\n",
              "      <td>90</td>\n",
              "      <td>3.4</td>\n",
              "      <td>Hindi</td>\n",
              "    </tr>\n",
              "  </tbody>\n",
              "</table>\n",
              "</div>\n",
              "    <div class=\"colab-df-buttons\">\n",
              "\n",
              "  <div class=\"colab-df-container\">\n",
              "    <button class=\"colab-df-convert\" onclick=\"convertToInteractive('df-0490810b-b65a-4e34-9f76-35618094fa1f')\"\n",
              "            title=\"Convert this dataframe to an interactive table.\"\n",
              "            style=\"display:none;\">\n",
              "\n",
              "  <svg xmlns=\"http://www.w3.org/2000/svg\" height=\"24px\" viewBox=\"0 -960 960 960\">\n",
              "    <path d=\"M120-120v-720h720v720H120Zm60-500h600v-160H180v160Zm220 220h160v-160H400v160Zm0 220h160v-160H400v160ZM180-400h160v-160H180v160Zm440 0h160v-160H620v160ZM180-180h160v-160H180v160Zm440 0h160v-160H620v160Z\"/>\n",
              "  </svg>\n",
              "    </button>\n",
              "\n",
              "  <style>\n",
              "    .colab-df-container {\n",
              "      display:flex;\n",
              "      gap: 12px;\n",
              "    }\n",
              "\n",
              "    .colab-df-convert {\n",
              "      background-color: #E8F0FE;\n",
              "      border: none;\n",
              "      border-radius: 50%;\n",
              "      cursor: pointer;\n",
              "      display: none;\n",
              "      fill: #1967D2;\n",
              "      height: 32px;\n",
              "      padding: 0 0 0 0;\n",
              "      width: 32px;\n",
              "    }\n",
              "\n",
              "    .colab-df-convert:hover {\n",
              "      background-color: #E2EBFA;\n",
              "      box-shadow: 0px 1px 2px rgba(60, 64, 67, 0.3), 0px 1px 3px 1px rgba(60, 64, 67, 0.15);\n",
              "      fill: #174EA6;\n",
              "    }\n",
              "\n",
              "    .colab-df-buttons div {\n",
              "      margin-bottom: 4px;\n",
              "    }\n",
              "\n",
              "    [theme=dark] .colab-df-convert {\n",
              "      background-color: #3B4455;\n",
              "      fill: #D2E3FC;\n",
              "    }\n",
              "\n",
              "    [theme=dark] .colab-df-convert:hover {\n",
              "      background-color: #434B5C;\n",
              "      box-shadow: 0px 1px 3px 1px rgba(0, 0, 0, 0.15);\n",
              "      filter: drop-shadow(0px 1px 2px rgba(0, 0, 0, 0.3));\n",
              "      fill: #FFFFFF;\n",
              "    }\n",
              "  </style>\n",
              "\n",
              "    <script>\n",
              "      const buttonEl =\n",
              "        document.querySelector('#df-0490810b-b65a-4e34-9f76-35618094fa1f button.colab-df-convert');\n",
              "      buttonEl.style.display =\n",
              "        google.colab.kernel.accessAllowed ? 'block' : 'none';\n",
              "\n",
              "      async function convertToInteractive(key) {\n",
              "        const element = document.querySelector('#df-0490810b-b65a-4e34-9f76-35618094fa1f');\n",
              "        const dataTable =\n",
              "          await google.colab.kernel.invokeFunction('convertToInteractive',\n",
              "                                                    [key], {});\n",
              "        if (!dataTable) return;\n",
              "\n",
              "        const docLinkHtml = 'Like what you see? Visit the ' +\n",
              "          '<a target=\"_blank\" href=https://colab.research.google.com/notebooks/data_table.ipynb>data table notebook</a>'\n",
              "          + ' to learn more about interactive tables.';\n",
              "        element.innerHTML = '';\n",
              "        dataTable['output_type'] = 'display_data';\n",
              "        await google.colab.output.renderOutput(dataTable, element);\n",
              "        const docLink = document.createElement('div');\n",
              "        docLink.innerHTML = docLinkHtml;\n",
              "        element.appendChild(docLink);\n",
              "      }\n",
              "    </script>\n",
              "  </div>\n",
              "\n",
              "\n",
              "<div id=\"df-17e58f49-9bbb-4609-b791-4d5e4e01ae54\">\n",
              "  <button class=\"colab-df-quickchart\" onclick=\"quickchart('df-17e58f49-9bbb-4609-b791-4d5e4e01ae54')\"\n",
              "            title=\"Suggest charts\"\n",
              "            style=\"display:none;\">\n",
              "\n",
              "<svg xmlns=\"http://www.w3.org/2000/svg\" height=\"24px\"viewBox=\"0 0 24 24\"\n",
              "     width=\"24px\">\n",
              "    <g>\n",
              "        <path d=\"M19 3H5c-1.1 0-2 .9-2 2v14c0 1.1.9 2 2 2h14c1.1 0 2-.9 2-2V5c0-1.1-.9-2-2-2zM9 17H7v-7h2v7zm4 0h-2V7h2v10zm4 0h-2v-4h2v4z\"/>\n",
              "    </g>\n",
              "</svg>\n",
              "  </button>\n",
              "\n",
              "<style>\n",
              "  .colab-df-quickchart {\n",
              "      --bg-color: #E8F0FE;\n",
              "      --fill-color: #1967D2;\n",
              "      --hover-bg-color: #E2EBFA;\n",
              "      --hover-fill-color: #174EA6;\n",
              "      --disabled-fill-color: #AAA;\n",
              "      --disabled-bg-color: #DDD;\n",
              "  }\n",
              "\n",
              "  [theme=dark] .colab-df-quickchart {\n",
              "      --bg-color: #3B4455;\n",
              "      --fill-color: #D2E3FC;\n",
              "      --hover-bg-color: #434B5C;\n",
              "      --hover-fill-color: #FFFFFF;\n",
              "      --disabled-bg-color: #3B4455;\n",
              "      --disabled-fill-color: #666;\n",
              "  }\n",
              "\n",
              "  .colab-df-quickchart {\n",
              "    background-color: var(--bg-color);\n",
              "    border: none;\n",
              "    border-radius: 50%;\n",
              "    cursor: pointer;\n",
              "    display: none;\n",
              "    fill: var(--fill-color);\n",
              "    height: 32px;\n",
              "    padding: 0;\n",
              "    width: 32px;\n",
              "  }\n",
              "\n",
              "  .colab-df-quickchart:hover {\n",
              "    background-color: var(--hover-bg-color);\n",
              "    box-shadow: 0 1px 2px rgba(60, 64, 67, 0.3), 0 1px 3px 1px rgba(60, 64, 67, 0.15);\n",
              "    fill: var(--button-hover-fill-color);\n",
              "  }\n",
              "\n",
              "  .colab-df-quickchart-complete:disabled,\n",
              "  .colab-df-quickchart-complete:disabled:hover {\n",
              "    background-color: var(--disabled-bg-color);\n",
              "    fill: var(--disabled-fill-color);\n",
              "    box-shadow: none;\n",
              "  }\n",
              "\n",
              "  .colab-df-spinner {\n",
              "    border: 2px solid var(--fill-color);\n",
              "    border-color: transparent;\n",
              "    border-bottom-color: var(--fill-color);\n",
              "    animation:\n",
              "      spin 1s steps(1) infinite;\n",
              "  }\n",
              "\n",
              "  @keyframes spin {\n",
              "    0% {\n",
              "      border-color: transparent;\n",
              "      border-bottom-color: var(--fill-color);\n",
              "      border-left-color: var(--fill-color);\n",
              "    }\n",
              "    20% {\n",
              "      border-color: transparent;\n",
              "      border-left-color: var(--fill-color);\n",
              "      border-top-color: var(--fill-color);\n",
              "    }\n",
              "    30% {\n",
              "      border-color: transparent;\n",
              "      border-left-color: var(--fill-color);\n",
              "      border-top-color: var(--fill-color);\n",
              "      border-right-color: var(--fill-color);\n",
              "    }\n",
              "    40% {\n",
              "      border-color: transparent;\n",
              "      border-right-color: var(--fill-color);\n",
              "      border-top-color: var(--fill-color);\n",
              "    }\n",
              "    60% {\n",
              "      border-color: transparent;\n",
              "      border-right-color: var(--fill-color);\n",
              "    }\n",
              "    80% {\n",
              "      border-color: transparent;\n",
              "      border-right-color: var(--fill-color);\n",
              "      border-bottom-color: var(--fill-color);\n",
              "    }\n",
              "    90% {\n",
              "      border-color: transparent;\n",
              "      border-bottom-color: var(--fill-color);\n",
              "    }\n",
              "  }\n",
              "</style>\n",
              "\n",
              "  <script>\n",
              "    async function quickchart(key) {\n",
              "      const quickchartButtonEl =\n",
              "        document.querySelector('#' + key + ' button');\n",
              "      quickchartButtonEl.disabled = true;  // To prevent multiple clicks.\n",
              "      quickchartButtonEl.classList.add('colab-df-spinner');\n",
              "      try {\n",
              "        const charts = await google.colab.kernel.invokeFunction(\n",
              "            'suggestCharts', [key], {});\n",
              "      } catch (error) {\n",
              "        console.error('Error during call to suggestCharts:', error);\n",
              "      }\n",
              "      quickchartButtonEl.classList.remove('colab-df-spinner');\n",
              "      quickchartButtonEl.classList.add('colab-df-quickchart-complete');\n",
              "    }\n",
              "    (() => {\n",
              "      let quickchartButtonEl =\n",
              "        document.querySelector('#df-17e58f49-9bbb-4609-b791-4d5e4e01ae54 button');\n",
              "      quickchartButtonEl.style.display =\n",
              "        google.colab.kernel.accessAllowed ? 'block' : 'none';\n",
              "    })();\n",
              "  </script>\n",
              "</div>\n",
              "\n",
              "    </div>\n",
              "  </div>\n"
            ],
            "application/vnd.google.colaboratory.intrinsic+json": {
              "type": "dataframe",
              "variable_name": "data",
              "summary": "{\n  \"name\": \"data\",\n  \"rows\": 584,\n  \"fields\": [\n    {\n      \"column\": \"Title\",\n      \"properties\": {\n        \"dtype\": \"string\",\n        \"num_unique_values\": 584,\n        \"samples\": [\n          \"Paper Lives\",\n          \"Outlaw King\",\n          \"Things Heard & Seen\"\n        ],\n        \"semantic_type\": \"\",\n        \"description\": \"\"\n      }\n    },\n    {\n      \"column\": \"Genre\",\n      \"properties\": {\n        \"dtype\": \"category\",\n        \"num_unique_values\": 115,\n        \"samples\": [\n          \"Science fiction/Action\",\n          \"Mystery\",\n          \"Science fiction/Mystery\"\n        ],\n        \"semantic_type\": \"\",\n        \"description\": \"\"\n      }\n    },\n    {\n      \"column\": \"Premiere\",\n      \"properties\": {\n        \"dtype\": \"string\",\n        \"num_unique_values\": 390,\n        \"samples\": [\n          \"May 18, 2021\",\n          \"December 25, 2020\",\n          \"December 3, 2019\"\n        ],\n        \"semantic_type\": \"\",\n        \"description\": \"\"\n      }\n    },\n    {\n      \"column\": \"Runtime\",\n      \"properties\": {\n        \"dtype\": \"number\",\n        \"std\": 27,\n        \"min\": 4,\n        \"max\": 209,\n        \"num_unique_values\": 124,\n        \"samples\": [\n          99,\n          70,\n          96\n        ],\n        \"semantic_type\": \"\",\n        \"description\": \"\"\n      }\n    },\n    {\n      \"column\": \"IMDB Score\",\n      \"properties\": {\n        \"dtype\": \"number\",\n        \"std\": 0.9792563938488795,\n        \"min\": 2.5,\n        \"max\": 9.0,\n        \"num_unique_values\": 54,\n        \"samples\": [\n          5.3,\n          8.3,\n          8.2\n        ],\n        \"semantic_type\": \"\",\n        \"description\": \"\"\n      }\n    },\n    {\n      \"column\": \"Language\",\n      \"properties\": {\n        \"dtype\": \"category\",\n        \"num_unique_values\": 38,\n        \"samples\": [\n          \"English/Korean\",\n          \"English/Akan\",\n          \"Hindi\"\n        ],\n        \"semantic_type\": \"\",\n        \"description\": \"\"\n      }\n    }\n  ]\n}"
            }
          },
          "metadata": {},
          "execution_count": 6
        }
      ]
    },
    {
      "cell_type": "code",
      "source": [
        "print(data)"
      ],
      "metadata": {
        "colab": {
          "base_uri": "https://localhost:8080/"
        },
        "id": "-JJBhvR_J3c6",
        "outputId": "81347bb2-930e-4b2e-be04-ad6b440d90eb"
      },
      "execution_count": 7,
      "outputs": [
        {
          "output_type": "stream",
          "name": "stdout",
          "text": [
            "                                           Title                  Genre  \\\n",
            "0                                Enter the Anime            Documentary   \n",
            "1                                    Dark Forces               Thriller   \n",
            "2                                        The App  Science fiction/Drama   \n",
            "3                                 The Open House        Horror thriller   \n",
            "4                                    Kaali Khuhi                Mystery   \n",
            "..                                           ...                    ...   \n",
            "579        Taylor Swift: Reputation Stadium Tour           Concert Film   \n",
            "580  Winter on Fire: Ukraine's Fight for Freedom            Documentary   \n",
            "581                      Springsteen on Broadway           One-man show   \n",
            "582    Emicida: AmarElo - It's All For Yesterday            Documentary   \n",
            "583     David Attenborough: A Life on Our Planet            Documentary   \n",
            "\n",
            "              Premiere  Runtime  IMDB Score                  Language  \n",
            "0       August 5, 2019       58         2.5          English/Japanese  \n",
            "1      August 21, 2020       81         2.6                   Spanish  \n",
            "2    December 26, 2019       79         2.6                   Italian  \n",
            "3     January 19, 2018       94         3.2                   English  \n",
            "4     October 30, 2020       90         3.4                     Hindi  \n",
            "..                 ...      ...         ...                       ...  \n",
            "579  December 31, 2018      125         8.4                   English  \n",
            "580    October 9, 2015       91         8.4  English/Ukranian/Russian  \n",
            "581  December 16, 2018      153         8.5                   English  \n",
            "582   December 8, 2020       89         8.6                Portuguese  \n",
            "583    October 4, 2020       83         9.0                   English  \n",
            "\n",
            "[584 rows x 6 columns]\n"
          ]
        }
      ]
    },
    {
      "cell_type": "code",
      "source": [
        "# Memeriksa tipe data setiap kolom\n",
        "print(data.dtypes)"
      ],
      "metadata": {
        "colab": {
          "base_uri": "https://localhost:8080/"
        },
        "id": "P0QmtePeKRti",
        "outputId": "4ea63f7f-648f-498c-d55a-4df84dc504c2"
      },
      "execution_count": 8,
      "outputs": [
        {
          "output_type": "stream",
          "name": "stdout",
          "text": [
            "Title          object\n",
            "Genre          object\n",
            "Premiere       object\n",
            "Runtime         int64\n",
            "IMDB Score    float64\n",
            "Language       object\n",
            "dtype: object\n"
          ]
        }
      ]
    },
    {
      "cell_type": "code",
      "source": [
        "# Check if 'explicit' column exists, if not handle it\n",
        "if 'explicit' not in data.columns:\n",
        "    # Handle the missing column, either add it or skip the operation\n",
        "    print(\"Column 'explicit' not found in the DataFrame.\")\n",
        "    # Example: Adding a dummy column filled with 0\n",
        "    data['explicit'] = 0\n",
        "else:\n",
        "    # Mengonversi kolom 'explicit' ke numerik jika masih dalam format string\n",
        "    if data['explicit'].dtype == 'object':\n",
        "        data['explicit'] = data['explicit'].apply(lambda x: 1 if x == 'True' else 0)\n",
        "\n",
        "# Memilih hanya kolom yang relevan dan memiliki tipe data numerik\n",
        "selected_columns = ['Title', 'Genre', 'Language']\n",
        "data_selected = data[selected_columns]"
      ],
      "metadata": {
        "id": "xn44iTZxLkR6"
      },
      "execution_count": 13,
      "outputs": []
    },
    {
      "cell_type": "code",
      "source": [
        "import pandas as pd\n",
        "from sklearn.preprocessing import StandardScaler\n",
        "from sklearn.preprocessing import OneHotEncoder\n",
        "\n",
        "# Assuming 'data' is already loaded as in your provided code\n",
        "\n",
        "# Memilih hanya kolom yang relevan dan memiliki tipe data numerik\n",
        "selected_columns = ['Title', 'Genre', 'Language']\n",
        "data_selected = data[selected_columns]\n",
        "\n",
        "# One-hot encode categorical features\n",
        "encoder = OneHotEncoder()\n",
        "encoded_data = encoder.fit_transform(data_selected[['Title', 'Genre', 'Language']])\n",
        "\n",
        "# Standarisasi data (if needed for other numerical features, not shown in this example)\n",
        "# scaler = StandardScaler()\n",
        "# numerical_features = ...  # Select numerical columns if any\n",
        "# data_scaled = scaler.fit_transform(data[numerical_features])"
      ],
      "metadata": {
        "id": "cIvdVzY9MwY2"
      },
      "execution_count": 15,
      "outputs": []
    },
    {
      "cell_type": "code",
      "source": [
        "import pandas as pd\n",
        "from sklearn.cluster import KMeans\n",
        "from sklearn.preprocessing import OneHotEncoder\n",
        "\n",
        "# Assuming 'data_selected' is already loaded as in your provided code\n",
        "\n",
        "# One-hot encode categorical features\n",
        "encoder = OneHotEncoder()\n",
        "encoded_data = encoder.fit_transform(data_selected[['Title', 'Genre', 'Language']]).toarray() # Convert to a NumPy array\n",
        "\n",
        "# Menentukan jumlah klaster optimal menggunakan metode Elbow\n",
        "wcss = []\n",
        "for i in range(1, 11):\n",
        "    kmeans = KMeans(n_clusters=i, init='k-means++', max_iter=300, n_init=10, random_state=0)\n",
        "    # Fit KMeans on the encoded numerical data\n",
        "    kmeans.fit(encoded_data)\n",
        "    wcss.append(kmeans.inertia_)"
      ],
      "metadata": {
        "id": "w66js5-bNR3x"
      },
      "execution_count": 19,
      "outputs": []
    },
    {
      "cell_type": "code",
      "source": [
        "# Plotting metode Elbow\n",
        "plt.figure(figsize=(10, 8))\n",
        "plt.plot(range(1, 11), wcss, marker='o', linestyle='--')\n",
        "plt.title('Metode Elbow')\n",
        "plt.xlabel('Jumlah Klaster')\n",
        "plt.ylabel('WCSS')\n",
        "plt.show()"
      ],
      "metadata": {
        "colab": {
          "base_uri": "https://localhost:8080/",
          "height": 718
        },
        "id": "cPx2h_CjNyCP",
        "outputId": "d9e811b5-140a-4d4b-efe9-c5ba41654728"
      },
      "execution_count": 20,
      "outputs": [
        {
          "output_type": "display_data",
          "data": {
            "text/plain": [
              "<Figure size 1000x800 with 1 Axes>"
            ],
            "image/png": "[encoded data removed]"
          },
          "metadata": {}
        }
      ]
    },
    {
      "cell_type": "code",
      "source": [
        "import pandas as pd\n",
        "from sklearn.cluster import KMeans\n",
        "from sklearn.preprocessing import OneHotEncoder\n",
        "\n",
        "# Assuming 'data_selected' is already loaded as in your provided code\n",
        "\n",
        "# One-hot encode categorical features\n",
        "encoder = OneHotEncoder()\n",
        "encoded_data = encoder.fit_transform(data_selected[['Title', 'Genre', 'Language']]).toarray() # Convert to a NumPy array\n",
        "\n",
        "# Menentukan jumlah klaster optimal menggunakan metode Elbow\n",
        "# ... (Your existing Elbow method code)\n",
        "\n",
        "# Langkah 3: Clustering dan Visualisasi\n",
        "# Melakukan clustering dengan jumlah klaster optimal (misalnya 4 berdasarkan Elbow method)\n",
        "optimal_clusters = 4\n",
        "kmeans = KMeans(n_clusters=optimal_clusters, init='k-means++', max_iter=300, n_init=10, random_state=0)\n",
        "# Fit KMeans on the encoded data, not data_scaled\n",
        "clusters = kmeans.fit_predict(encoded_data)\n",
        "\n",
        "# Menambahkan hasil clustering ke dalam data asli\n",
        "data['Cluster'] = clusters"
      ],
      "metadata": {
        "id": "xaeDXB1mOEGr"
      },
      "execution_count": 22,
      "outputs": []
    },
    {
      "cell_type": "code",
      "source": [
        "# Melihat distribusi klaster\n",
        "sns.countplot(data['Cluster'])\n",
        "plt.title('Distribusi Klaster')\n",
        "plt.show()"
      ],
      "metadata": {
        "colab": {
          "base_uri": "https://localhost:8080/",
          "height": 452
        },
        "id": "bYUK3FGyOiRt",
        "outputId": "6baca874-8cb1-4be6-d6d6-32ee8f96766a"
      },
      "execution_count": 23,
      "outputs": [
        {
          "output_type": "display_data",
          "data": {
            "text/plain": [
              "<Figure size 640x480 with 1 Axes>"
            ],
            "image/png": "[encoded data removed]"
          },
          "metadata": {}
        }
      ]
    },
    {
      "cell_type": "code",
      "source": [
        "# Visualisasi 2D dengan PCA (jika diperlukan)\n",
        "from sklearn.decomposition import PCA # Import the PCA class\n",
        "pca = PCA(n_components=2)\n",
        "principal_components = pca.fit_transform(encoded_data)\n",
        "data_pca = pd.DataFrame(data=principal_components, columns=['PC1', 'PC2'])\n",
        "data_pca['Cluster'] = clusters\n",
        "\n",
        "plt.figure(figsize=(10, 8))\n",
        "sns.scatterplot(x='PC1', y='PC2', hue='Cluster', data=data_pca, palette='Set1')\n",
        "plt.title('Visualisasi Klaster dengan PCA')\n",
        "plt.show()"
      ],
      "metadata": {
        "colab": {
          "base_uri": "https://localhost:8080/",
          "height": 718
        },
        "id": "wu2ncWzwOoBi",
        "outputId": "60b9900a-d06e-45e4-d6f5-eca0ce3e68ea"
      },
      "execution_count": 27,
      "outputs": [
        {
          "output_type": "display_data",
          "data": {
            "text/plain": [
              "<Figure size 1000x800 with 1 Axes>"
            ],
            "image/png": "[encoded data removed]"
          },
          "metadata": {}
        }
      ]
    },
    {
      "cell_type": "code",
      "source": [
        "def recommend_film(identifier, data, num_recommendations=None, search_by='Title'):\n",
        "    # Pencarian berdasarkan Title, Genre, atau Language\n",
        "    if search_by == 'Title':\n",
        "        # Menemukan data dari Title yang diberikan\n",
        "        filtered_data = data[data['Title'] == identifier]\n",
        "        if filtered_data.empty:\n",
        "            return f\"Tittle '{identifier}' tidak ditemukan dalam data.\"\n",
        "    elif search_by == 'Genre':\n",
        "        # Menemukan data dari Genre yang diberikan\n",
        "        filtered_data = data[data['Genre'] == identifier]\n",
        "        if filtered_data.empty:\n",
        "            return f\"genre '{identifier}' tidak ditemukan dalam data.\"\n",
        "    elif search_by == 'Language':\n",
        "        # Menemukan data dari Language yang diberikan\n",
        "        filtered_data = data[data['Language'] == identifier]\n",
        "        if filtered_data.empty:\n",
        "            return f\"Bahasa '{identifier}' tidak ditemukan dalam data.\"\n",
        "    else:\n",
        "        return \"Parameter 'search_by' harus 'Title', 'Genre', atau 'Language'.\"\n",
        "\n",
        "    # Jika num_recommendations tidak ditentukan, tampilkan semua data yang sesuai\n",
        "    if num_recommendations is None or num_recommendations > len(filtered_data):\n",
        "        # Return only the available columns\n",
        "        return filtered_data[['Title', 'Genre', 'Language']]  # Removed 'Director'\n",
        "\n",
        "    # Mengambil beberapa rekomendasi musik dari filter (Title, Genre, atau Language)\n",
        "    recommendations = filtered_data.sample(num_recommendations)\n",
        "\n",
        "    # Return only the available columns\n",
        "    return recommendations[['Title', 'Genre', 'Premiere', 'Runtime', 'IMDB Score', 'Language']] # Removed 'Director'\n"
      ],
      "metadata": {
        "id": "2fchzNAqPgfl"
      },
      "execution_count": 36,
      "outputs": []
    },
    {
      "cell_type": "code",
      "source": [
        "# Langkah 5: Penggunaan Fungsi Rekomendasi\n",
        "# Penggunaan fungsi rekomendasi berdasarkan Title\n",
        "identifier = 'Kaali Khuhi'  # Ganti dengan nama Title yang ada dalam data\n",
        "search_by = 'Title'\n",
        "recommendations = recommend_film(identifier, data, search_by=search_by)\n",
        "print(recommendations)"
      ],
      "metadata": {
        "colab": {
          "base_uri": "https://localhost:8080/"
        },
        "id": "0NitMUjxSQuu",
        "outputId": "0f9299f0-e0d3-4f16-f796-11eabbb2a634"
      },
      "execution_count": 37,
      "outputs": [
        {
          "output_type": "stream",
          "name": "stdout",
          "text": [
            "         Title    Genre Language\n",
            "4  Kaali Khuhi  Mystery    Hindi\n"
          ]
        }
      ]
    },
    {
      "cell_type": "code",
      "source": [
        "# Contoh penggunaan untuk Genre\n",
        "identifier = 'Horror thriller'\n",
        "search_by = 'Genre'\n",
        "recommendations = recommend_film(identifier, data, search_by=search_by)\n",
        "print(recommendations)"
      ],
      "metadata": {
        "colab": {
          "base_uri": "https://localhost:8080/"
        },
        "id": "aZkP-8ieUuwq",
        "outputId": "cf2d6ed4-59b6-4c81-d451-fd00b780d2cb"
      },
      "execution_count": 39,
      "outputs": [
        {
          "output_type": "stream",
          "name": "stdout",
          "text": [
            "              Title            Genre Language\n",
            "3    The Open House  Horror thriller  English\n",
            "19       Death Note  Horror thriller  English\n",
            "331   Gerald's Game  Horror thriller  English\n"
          ]
        }
      ]
    },
    {
      "cell_type": "code",
      "source": [
        "# Contoh penggunaan untuk Language\n",
        "identifier = 'Spanish'\n",
        "search_by = 'Language'\n",
        "recommendations = recommend_film(identifier, data, search_by=search_by)\n",
        "print(recommendations)"
      ],
      "metadata": {
        "colab": {
          "base_uri": "https://localhost:8080/"
        },
        "id": "Y29jXqW_Vbcb",
        "outputId": "232091f3-7e6e-4dab-8ae1-b4d7eb609008"
      },
      "execution_count": 40,
      "outputs": [
        {
          "output_type": "stream",
          "name": "stdout",
          "text": [
            "                                             Title  \\\n",
            "1                                      Dark Forces   \n",
            "15                                  After the Raid   \n",
            "53                             The Day of the Lord   \n",
            "88                                       Intuition   \n",
            "92        Who Would You Take to a Deserted Island?   \n",
            "96                              Despite Everything   \n",
            "137                                  The Paramedic   \n",
            "144                                     Dad Wanted   \n",
            "190                                You've Got This   \n",
            "242                                Unknown Origins   \n",
            "246                                     Below Zero   \n",
            "254                          Offering to the Storm   \n",
            "276                               Notes for My Son   \n",
            "296                           Como Caído del Cielo   \n",
            "313                                   The Occupant   \n",
            "338                          Nobody Knows I'm Here   \n",
            "349                                Crazy About Her   \n",
            "350                                Elisa & Marcela   \n",
            "361                           The Crimes That Bind   \n",
            "384                       Parchis: The Documentary   \n",
            "390                                         7 años   \n",
            "392  A Life of Speed: The Juan Manuel Fangio Story   \n",
            "436                     Lorena, Light-Footed Woman   \n",
            "437          Los Tigres del Norte at Folsom Prison   \n",
            "458                        El Pepe: A Supreme Life   \n",
            "463            Guillermo Vilas: Settling the Score   \n",
            "489                                      Seventeen   \n",
            "504                             I'm No Longer Here   \n",
            "558                                   Road to Roma   \n",
            "559                                           Roma   \n",
            "575          The Three Deaths of Marisela Escobedo   \n",
            "\n",
            "                          Genre Language  \n",
            "1                      Thriller  Spanish  \n",
            "15                  Documentary  Spanish  \n",
            "53                        Drama  Spanish  \n",
            "88                     Thriller  Spanish  \n",
            "92                        Drama  Spanish  \n",
            "96                       Comedy  Spanish  \n",
            "137                    Thriller  Spanish  \n",
            "144                      Family  Spanish  \n",
            "190             Romantic comedy  Spanish  \n",
            "242                    Thriller  Spanish  \n",
            "246                       Drama  Spanish  \n",
            "254                    Thriller  Spanish  \n",
            "276                       Drama  Spanish  \n",
            "296              Musical comedy  Spanish  \n",
            "313                    Thriller  Spanish  \n",
            "338                       Drama  Spanish  \n",
            "349             Romantic comedy  Spanish  \n",
            "350                     Romance  Spanish  \n",
            "361                 Crime drama  Spanish  \n",
            "384                 Documentary  Spanish  \n",
            "390                       Drama  Spanish  \n",
            "392                 Documentary  Spanish  \n",
            "436                 Documentary  Spanish  \n",
            "437                 Documentary  Spanish  \n",
            "458                 Documentary  Spanish  \n",
            "463                 Documentary  Spanish  \n",
            "489  Coming-of-age comedy-drama  Spanish  \n",
            "504                       Drama  Spanish  \n",
            "558                   Making-of  Spanish  \n",
            "559                       Drama  Spanish  \n",
            "575                 Documentary  Spanish  \n"
          ]
        }
      ]
    },
    {
      "cell_type": "code",
      "source": [
        "from google.colab import drive\n",
        "drive.mount('/content/drive')\n"
      ],
      "metadata": {
        "colab": {
          "base_uri": "https://localhost:8080/"
        },
        "id": "T-BMWAKmV3hU",
        "outputId": "4cfb8cc0-dc78-4166-a529-e5f70330bc33"
      },
      "execution_count": 41,
      "outputs": [
        {
          "output_type": "stream",
          "name": "stdout",
          "text": [
            "Mounted at /content/drive\n"
          ]
        }
      ]
    },
    {
      "cell_type": "code",
      "source": [
        "output_file_path = '/content/drive/My Drive/path_to_output_file/NetflixOriginals_Hasil.csv'"
      ],
      "metadata": {
        "id": "u2C-W5baWamF"
      },
      "execution_count": 42,
      "outputs": []
    },
    {
      "cell_type": "code",
      "source": [
        "data.to_csv(output_file_path, index=False)"
      ],
      "metadata": {
        "id": "G3urXAD6Wn_p"
      },
      "execution_count": 44,
      "outputs": []
    },
    {
      "cell_type": "code",
      "source": [
        "print(f\"Dataframe telah disimpan ke: {output_file_path}\")"
      ],
      "metadata": {
        "colab": {
          "base_uri": "https://localhost:8080/"
        },
        "id": "I91muqwLW0DX",
        "outputId": "4253eda1-e8df-4f9d-e1ed-00a2a4f6ba6d"
      },
      "execution_count": 45,
      "outputs": [
        {
          "output_type": "stream",
          "name": "stdout",
          "text": [
            "Dataframe telah disimpan ke: /content/drive/My Drive/path_to_output_file/NetflixOriginals_Hasil.csv\n"
          ]
        }
      ]
    }
  ]
}